{
 "cells": [
  {
   "cell_type": "code",
   "execution_count": 17,
   "metadata": {
    "collapsed": true
   },
   "outputs": [],
   "source": [
    "import typing\n",
    "\n",
    "import pandas as pd\n",
    "from bokeh.layouts import layout\n",
    "from bokeh.models import ColumnDataSource, Select, HoverTool\n",
    "from bokeh.plotting import figure, curdoc,show\n",
    "\n",
    "#curdoc().clear()"
   ]
  },
  {
   "cell_type": "code",
   "execution_count": 18,
   "outputs": [
    {
     "data": {
      "text/plain": "                   Species  Predation  Exposure  Danger\n0          Africanelephant          3         5       3\n1   Africangiantpouchedrat          3         1       3\n2                ArcticFox          1         1       1\n3     Arcticgroundsquirrel          5         2       3\n4            Asianelephant          3         5       4\n..                     ...        ...       ...     ...\n57               Treehyrax          3         1       3\n58               Treeshrew          3         2       2\n59                  Vervet          4         3       4\n60            Wateropossum          2         1       1\n61    Yellow-belliedmarmot          3         1       1\n\n[62 rows x 4 columns]",
      "text/html": "<div>\n<style scoped>\n    .dataframe tbody tr th:only-of-type {\n        vertical-align: middle;\n    }\n\n    .dataframe tbody tr th {\n        vertical-align: top;\n    }\n\n    .dataframe thead th {\n        text-align: right;\n    }\n</style>\n<table border=\"1\" class=\"dataframe\">\n  <thead>\n    <tr style=\"text-align: right;\">\n      <th></th>\n      <th>Species</th>\n      <th>Predation</th>\n      <th>Exposure</th>\n      <th>Danger</th>\n    </tr>\n  </thead>\n  <tbody>\n    <tr>\n      <th>0</th>\n      <td>Africanelephant</td>\n      <td>3</td>\n      <td>5</td>\n      <td>3</td>\n    </tr>\n    <tr>\n      <th>1</th>\n      <td>Africangiantpouchedrat</td>\n      <td>3</td>\n      <td>1</td>\n      <td>3</td>\n    </tr>\n    <tr>\n      <th>2</th>\n      <td>ArcticFox</td>\n      <td>1</td>\n      <td>1</td>\n      <td>1</td>\n    </tr>\n    <tr>\n      <th>3</th>\n      <td>Arcticgroundsquirrel</td>\n      <td>5</td>\n      <td>2</td>\n      <td>3</td>\n    </tr>\n    <tr>\n      <th>4</th>\n      <td>Asianelephant</td>\n      <td>3</td>\n      <td>5</td>\n      <td>4</td>\n    </tr>\n    <tr>\n      <th>...</th>\n      <td>...</td>\n      <td>...</td>\n      <td>...</td>\n      <td>...</td>\n    </tr>\n    <tr>\n      <th>57</th>\n      <td>Treehyrax</td>\n      <td>3</td>\n      <td>1</td>\n      <td>3</td>\n    </tr>\n    <tr>\n      <th>58</th>\n      <td>Treeshrew</td>\n      <td>3</td>\n      <td>2</td>\n      <td>2</td>\n    </tr>\n    <tr>\n      <th>59</th>\n      <td>Vervet</td>\n      <td>4</td>\n      <td>3</td>\n      <td>4</td>\n    </tr>\n    <tr>\n      <th>60</th>\n      <td>Wateropossum</td>\n      <td>2</td>\n      <td>1</td>\n      <td>1</td>\n    </tr>\n    <tr>\n      <th>61</th>\n      <td>Yellow-belliedmarmot</td>\n      <td>3</td>\n      <td>1</td>\n      <td>1</td>\n    </tr>\n  </tbody>\n</table>\n<p>62 rows × 4 columns</p>\n</div>"
     },
     "execution_count": 18,
     "metadata": {},
     "output_type": "execute_result"
    }
   ],
   "source": [
    "# Load the datasets\n",
    "df_sleep = pd.read_csv(\"mammals_sleep.csv\")\n",
    "df_predation = pd.read_csv(\"mammals_predation.csv\")\n",
    "\n",
    "# TIPP: Before advancing any further, inspect the datasets, how are they structured, what are the columns?\n",
    "#       You can do this by using a simple print(df_sleep) or df_sleep.info()\n",
    "#       Real-world datasets typically contain mistakes, typos, NaNs and other problems we have to deal with\n",
    "#       Try to spot them early!\n",
    "#df_sleep\n",
    "#df_sleep\n",
    "# (0.1) In both datasets, drop all rows where the species in nan                                (please keep this line)\n",
    "# TODO Here comes your code\n",
    "#df_sleep = df_sleep.dropna()\n",
    "#df_predation = df_predation.dropna()\n",
    "df_sleep.dropna()\n",
    "df_predation.dropna()"
   ],
   "metadata": {
    "collapsed": false,
    "pycharm": {
     "name": "#%%\n"
    }
   }
  },
  {
   "cell_type": "code",
   "execution_count": 19,
   "outputs": [
    {
     "data": {
      "text/plain": "                    species  body_wt  brain_wt  non_dreaming  dreaming  \\\n0                 Muskshrew    0.048      0.33          10.8       2.0   \n1                 Treeshrew    0.104      2.50          13.2       2.6   \n2   Lessershort-tailedshrew    0.005      0.14           7.7       1.4   \n3              Wateropossum    3.500      3.90          12.8       6.6   \n4                     Mouse    0.023      0.40          11.9       1.3   \n..                      ...      ...       ...           ...       ...   \n61     Arcticgroundsquirrel    0.920      5.70           NaN       NaN   \n62                      NaN    0.750      6.00           NaN       NaN   \n63                      NaN    0.750      6.00           NaN       NaN   \n64                      NaN  123.000     45.00           NaN       NaN   \n65                      NaN  123.000     45.00           NaN       NaN   \n\n    total_sleep  life_span  gestation  predation  exposure  danger  \n0          12.8        2.0       30.0          4         1       3  \n1          15.8        2.3       46.0          3         2       2  \n2           9.1        2.6       21.5          5         2       4  \n3          19.4        3.0       14.0          2         1       1  \n4          13.2        3.2       19.0          4         1       3  \n..          ...        ...        ...        ...       ...     ...  \n61         16.5        NaN       25.0          5         2       3  \n62         17.0        NaN       26.0          2         1       1  \n63         17.0        NaN       26.0          2         2       1  \n64         15.0        NaN       24.0          2         1       1  \n65         15.0        NaN       24.0          2         2       1  \n\n[64 rows x 11 columns]",
      "text/html": "<div>\n<style scoped>\n    .dataframe tbody tr th:only-of-type {\n        vertical-align: middle;\n    }\n\n    .dataframe tbody tr th {\n        vertical-align: top;\n    }\n\n    .dataframe thead th {\n        text-align: right;\n    }\n</style>\n<table border=\"1\" class=\"dataframe\">\n  <thead>\n    <tr style=\"text-align: right;\">\n      <th></th>\n      <th>species</th>\n      <th>body_wt</th>\n      <th>brain_wt</th>\n      <th>non_dreaming</th>\n      <th>dreaming</th>\n      <th>total_sleep</th>\n      <th>life_span</th>\n      <th>gestation</th>\n      <th>predation</th>\n      <th>exposure</th>\n      <th>danger</th>\n    </tr>\n  </thead>\n  <tbody>\n    <tr>\n      <th>0</th>\n      <td>Muskshrew</td>\n      <td>0.048</td>\n      <td>0.33</td>\n      <td>10.8</td>\n      <td>2.0</td>\n      <td>12.8</td>\n      <td>2.0</td>\n      <td>30.0</td>\n      <td>4</td>\n      <td>1</td>\n      <td>3</td>\n    </tr>\n    <tr>\n      <th>1</th>\n      <td>Treeshrew</td>\n      <td>0.104</td>\n      <td>2.50</td>\n      <td>13.2</td>\n      <td>2.6</td>\n      <td>15.8</td>\n      <td>2.3</td>\n      <td>46.0</td>\n      <td>3</td>\n      <td>2</td>\n      <td>2</td>\n    </tr>\n    <tr>\n      <th>2</th>\n      <td>Lessershort-tailedshrew</td>\n      <td>0.005</td>\n      <td>0.14</td>\n      <td>7.7</td>\n      <td>1.4</td>\n      <td>9.1</td>\n      <td>2.6</td>\n      <td>21.5</td>\n      <td>5</td>\n      <td>2</td>\n      <td>4</td>\n    </tr>\n    <tr>\n      <th>3</th>\n      <td>Wateropossum</td>\n      <td>3.500</td>\n      <td>3.90</td>\n      <td>12.8</td>\n      <td>6.6</td>\n      <td>19.4</td>\n      <td>3.0</td>\n      <td>14.0</td>\n      <td>2</td>\n      <td>1</td>\n      <td>1</td>\n    </tr>\n    <tr>\n      <th>4</th>\n      <td>Mouse</td>\n      <td>0.023</td>\n      <td>0.40</td>\n      <td>11.9</td>\n      <td>1.3</td>\n      <td>13.2</td>\n      <td>3.2</td>\n      <td>19.0</td>\n      <td>4</td>\n      <td>1</td>\n      <td>3</td>\n    </tr>\n    <tr>\n      <th>...</th>\n      <td>...</td>\n      <td>...</td>\n      <td>...</td>\n      <td>...</td>\n      <td>...</td>\n      <td>...</td>\n      <td>...</td>\n      <td>...</td>\n      <td>...</td>\n      <td>...</td>\n      <td>...</td>\n    </tr>\n    <tr>\n      <th>61</th>\n      <td>Arcticgroundsquirrel</td>\n      <td>0.920</td>\n      <td>5.70</td>\n      <td>NaN</td>\n      <td>NaN</td>\n      <td>16.5</td>\n      <td>NaN</td>\n      <td>25.0</td>\n      <td>5</td>\n      <td>2</td>\n      <td>3</td>\n    </tr>\n    <tr>\n      <th>62</th>\n      <td>NaN</td>\n      <td>0.750</td>\n      <td>6.00</td>\n      <td>NaN</td>\n      <td>NaN</td>\n      <td>17.0</td>\n      <td>NaN</td>\n      <td>26.0</td>\n      <td>2</td>\n      <td>1</td>\n      <td>1</td>\n    </tr>\n    <tr>\n      <th>63</th>\n      <td>NaN</td>\n      <td>0.750</td>\n      <td>6.00</td>\n      <td>NaN</td>\n      <td>NaN</td>\n      <td>17.0</td>\n      <td>NaN</td>\n      <td>26.0</td>\n      <td>2</td>\n      <td>2</td>\n      <td>1</td>\n    </tr>\n    <tr>\n      <th>64</th>\n      <td>NaN</td>\n      <td>123.000</td>\n      <td>45.00</td>\n      <td>NaN</td>\n      <td>NaN</td>\n      <td>15.0</td>\n      <td>NaN</td>\n      <td>24.0</td>\n      <td>2</td>\n      <td>1</td>\n      <td>1</td>\n    </tr>\n    <tr>\n      <th>65</th>\n      <td>NaN</td>\n      <td>123.000</td>\n      <td>45.00</td>\n      <td>NaN</td>\n      <td>NaN</td>\n      <td>15.0</td>\n      <td>NaN</td>\n      <td>24.0</td>\n      <td>2</td>\n      <td>2</td>\n      <td>1</td>\n    </tr>\n  </tbody>\n</table>\n<p>64 rows × 11 columns</p>\n</div>"
     },
     "execution_count": 19,
     "metadata": {},
     "output_type": "execute_result"
    }
   ],
   "source": [
    "# (0.1) Join the datasets based on the species column to one dataset                            (please keep this line)\n",
    "# TODO Here comes your code\n",
    "df_predation.columns = df_predation.columns.str.lower()\n",
    "df_combined = pd.merge(df_sleep,df_predation,on='species')\n",
    "#df_combined.dropna()\n",
    "\n",
    "# (0.1) Remove all species where the body_wt is larger than 1000kg from the combined dataset    (please keep this line)\n",
    "# TODO Here comes your code\n",
    "df_combined.drop(df_combined[df_combined['body_wt'] > 1000].index,inplace=True)\n",
    "\n",
    "# (0.2) Rename all columns such that they do not contain any                                    (please keep this line)\n",
    "# whitespaces and uppercase letters anymore\n",
    "# eg. \"Peter pan\" -> \"peter_pan\"\n",
    "# TODO Here comes your code\n",
    "df_combined.columns = df_combined.columns.str.lower()\n",
    "df_combined.columns = df_combined.columns.str.replace(\" \",\"_\")\n",
    "df_combined"
   ],
   "metadata": {
    "collapsed": false,
    "pycharm": {
     "name": "#%%\n"
    }
   }
  },
  {
   "cell_type": "code",
   "execution_count": 26,
   "outputs": [],
   "source": [
    "\"\"\"\n",
    "######################################\n",
    "(1.5 Points) Section 2: Visualization\n",
    "######################################\n",
    "\n",
    "In this section, we will implement the actual visualization in Bokeh\n",
    "The concept is as follows:\n",
    "\n",
    "1. We have a ColumnDataSource \"source\" which holds our current data\n",
    "   (x-coordinates (xs), y-coordinates (ys) and the names of the species (species))\n",
    "2. We have a Plot which displays the above ColumnDataSource using a circle glyph\n",
    "3. We have two Dropdown menues (called Select in Bokeh), where the user can select which column is used for the x-axis\n",
    "   or the y-axis respectively.\n",
    "4. Whenever the Selects change, we have to update the ColumnDataSource, this is done via a callback function\n",
    "\n",
    "We begin with implementing a fetch_data function, which takes two Column names from the input table,\n",
    "and returns a new dataset with the corresponding values as x and y coordinates.\n",
    "\"\"\"\n",
    "\n",
    "# (0.5 Points) Implement the fetch_data function according to it's docstrings                   (please keep this line)\n",
    "def fetch_data(x_column_name:str, y_column_name:str):\n",
    "    \"\"\"\n",
    "    (0.3 Points) Given two column names, this function returns a dictionary with\n",
    "    - (xs): a list of x-coordinates\n",
    "    - (ys): a list of y-coordinates\n",
    "    - (species): a list of species names\n",
    "\n",
    "    (0.2 Points) Ensures, the result does not contain any NaNs\n",
    "    \"\"\"\n",
    "    # TODO Here comes your code\n",
    "    df_combined_new = df_combined.dropna()\n",
    "\n",
    "    xs = df_combined_new[x_column_name].tolist()\n",
    "    ys = df_combined_new[y_column_name].tolist()\n",
    "    species = df_combined_new.species.tolist()\n",
    "    for n in xs:\n",
    "        if n == \"NaN\":\n",
    "            raise ValueError\n",
    "    for m in ys:\n",
    "        if m == \"NaN\":\n",
    "            raise ValueError\n",
    "    for k in species:\n",
    "        if k == \"NaN\":\n",
    "            raise ValueError\n",
    "    return dict(xs = xs, ys = ys, species=species)\n",
    "\n",
    "data = fetch_data(\"body_wt\",\"brain_wt\")\n",
    "data_1 = fetch_data(\"predation\",\"dreaming\")\n",
    "#data"
   ],
   "metadata": {
    "collapsed": false,
    "pycharm": {
     "name": "#%%\n"
    }
   }
  },
  {
   "cell_type": "code",
   "execution_count": 31,
   "outputs": [
    {
     "name": "stderr",
     "output_type": "stream",
     "text": [
      "WARNING:bokeh.embed.util:\n",
      "You are generating standalone HTML/JS output, but trying to use real Python\n",
      "callbacks (i.e. with on_change or on_event). This combination cannot work.\n",
      "\n",
      "Only JavaScript callbacks may be used with standalone output. For more\n",
      "information on JavaScript callbacks with Bokeh, see:\n",
      "\n",
      "    https://docs.bokeh.org/en/latest/docs/user_guide/interaction/callbacks.html\n",
      "\n",
      "Alternatively, to use real Python callbacks, a Bokeh server application may\n",
      "be used. For more information on building and running Bokeh applications, see:\n",
      "\n",
      "    https://docs.bokeh.org/en/latest/docs/user_guide/server.html\n",
      "\n"
     ]
    },
    {
     "ename": "RuntimeError",
     "evalue": "Models must be owned by only a single document, DataRange1d(id='4226', ...) is already in a doc",
     "output_type": "error",
     "traceback": [
      "\u001B[1;31m---------------------------------------------------------------------------\u001B[0m",
      "\u001B[1;31mRuntimeError\u001B[0m                              Traceback (most recent call last)",
      "\u001B[1;32m<ipython-input-31-19352505891e>\u001B[0m in \u001B[0;36m<module>\u001B[1;34m\u001B[0m\n\u001B[0;32m     68\u001B[0m \u001B[0mshow\u001B[0m\u001B[1;33m(\u001B[0m\u001B[0mlt\u001B[0m\u001B[1;33m)\u001B[0m\u001B[1;33m\u001B[0m\u001B[1;33m\u001B[0m\u001B[0m\n\u001B[0;32m     69\u001B[0m \u001B[0mcurdoc\u001B[0m\u001B[1;33m(\u001B[0m\u001B[1;33m)\u001B[0m\u001B[1;33m.\u001B[0m\u001B[0mclear\u001B[0m\u001B[1;33m(\u001B[0m\u001B[1;33m)\u001B[0m\u001B[1;33m\u001B[0m\u001B[1;33m\u001B[0m\u001B[0m\n\u001B[1;32m---> 70\u001B[1;33m \u001B[0mcurdoc\u001B[0m\u001B[1;33m(\u001B[0m\u001B[1;33m)\u001B[0m\u001B[1;33m.\u001B[0m\u001B[0madd_root\u001B[0m\u001B[1;33m(\u001B[0m\u001B[0mlt\u001B[0m\u001B[1;33m)\u001B[0m\u001B[1;33m\u001B[0m\u001B[1;33m\u001B[0m\u001B[0m\n\u001B[0m\u001B[0;32m     71\u001B[0m \u001B[0mcurdoc\u001B[0m\u001B[1;33m(\u001B[0m\u001B[1;33m)\u001B[0m\u001B[1;33m.\u001B[0m\u001B[0mtitle\u001B[0m \u001B[1;33m=\u001B[0m \u001B[1;34m'dva_ex1'\u001B[0m\u001B[1;33m\u001B[0m\u001B[1;33m\u001B[0m\u001B[0m\n\u001B[0;32m     72\u001B[0m \u001B[1;33m\u001B[0m\u001B[0m\n",
      "\u001B[1;32m~\\anaconda3\\lib\\site-packages\\bokeh\\document\\document.py\u001B[0m in \u001B[0;36madd_root\u001B[1;34m(self, model, setter)\u001B[0m\n\u001B[0;32m    319\u001B[0m             \u001B[0mself\u001B[0m\u001B[1;33m.\u001B[0m\u001B[0m_roots\u001B[0m\u001B[1;33m.\u001B[0m\u001B[0mappend\u001B[0m\u001B[1;33m(\u001B[0m\u001B[0mmodel\u001B[0m\u001B[1;33m)\u001B[0m\u001B[1;33m\u001B[0m\u001B[1;33m\u001B[0m\u001B[0m\n\u001B[0;32m    320\u001B[0m         \u001B[1;32mfinally\u001B[0m\u001B[1;33m:\u001B[0m\u001B[1;33m\u001B[0m\u001B[1;33m\u001B[0m\u001B[0m\n\u001B[1;32m--> 321\u001B[1;33m             \u001B[0mself\u001B[0m\u001B[1;33m.\u001B[0m\u001B[0m_pop_all_models_freeze\u001B[0m\u001B[1;33m(\u001B[0m\u001B[1;33m)\u001B[0m\u001B[1;33m\u001B[0m\u001B[1;33m\u001B[0m\u001B[0m\n\u001B[0m\u001B[0;32m    322\u001B[0m         \u001B[0mself\u001B[0m\u001B[1;33m.\u001B[0m\u001B[0m_trigger_on_change\u001B[0m\u001B[1;33m(\u001B[0m\u001B[0mRootAddedEvent\u001B[0m\u001B[1;33m(\u001B[0m\u001B[0mself\u001B[0m\u001B[1;33m,\u001B[0m \u001B[0mmodel\u001B[0m\u001B[1;33m,\u001B[0m \u001B[0msetter\u001B[0m\u001B[1;33m)\u001B[0m\u001B[1;33m)\u001B[0m\u001B[1;33m\u001B[0m\u001B[1;33m\u001B[0m\u001B[0m\n\u001B[0;32m    323\u001B[0m \u001B[1;33m\u001B[0m\u001B[0m\n",
      "\u001B[1;32m~\\anaconda3\\lib\\site-packages\\bokeh\\document\\document.py\u001B[0m in \u001B[0;36m_pop_all_models_freeze\u001B[1;34m(self)\u001B[0m\n\u001B[0;32m   1102\u001B[0m         \u001B[0mself\u001B[0m\u001B[1;33m.\u001B[0m\u001B[0m_all_models_freeze_count\u001B[0m \u001B[1;33m-=\u001B[0m \u001B[1;36m1\u001B[0m\u001B[1;33m\u001B[0m\u001B[1;33m\u001B[0m\u001B[0m\n\u001B[0;32m   1103\u001B[0m         \u001B[1;32mif\u001B[0m \u001B[0mself\u001B[0m\u001B[1;33m.\u001B[0m\u001B[0m_all_models_freeze_count\u001B[0m \u001B[1;33m==\u001B[0m \u001B[1;36m0\u001B[0m\u001B[1;33m:\u001B[0m\u001B[1;33m\u001B[0m\u001B[1;33m\u001B[0m\u001B[0m\n\u001B[1;32m-> 1104\u001B[1;33m             \u001B[0mself\u001B[0m\u001B[1;33m.\u001B[0m\u001B[0m_recompute_all_models\u001B[0m\u001B[1;33m(\u001B[0m\u001B[1;33m)\u001B[0m\u001B[1;33m\u001B[0m\u001B[1;33m\u001B[0m\u001B[0m\n\u001B[0m\u001B[0;32m   1105\u001B[0m \u001B[1;33m\u001B[0m\u001B[0m\n\u001B[0;32m   1106\u001B[0m     \u001B[1;32mdef\u001B[0m \u001B[0m_recompute_all_models\u001B[0m\u001B[1;33m(\u001B[0m\u001B[0mself\u001B[0m\u001B[1;33m)\u001B[0m\u001B[1;33m:\u001B[0m\u001B[1;33m\u001B[0m\u001B[1;33m\u001B[0m\u001B[0m\n",
      "\u001B[1;32m~\\anaconda3\\lib\\site-packages\\bokeh\\document\\document.py\u001B[0m in \u001B[0;36m_recompute_all_models\u001B[1;34m(self)\u001B[0m\n\u001B[0;32m   1125\u001B[0m             \u001B[0md\u001B[0m\u001B[1;33m.\u001B[0m\u001B[0m_detach_document\u001B[0m\u001B[1;33m(\u001B[0m\u001B[1;33m)\u001B[0m\u001B[1;33m\u001B[0m\u001B[1;33m\u001B[0m\u001B[0m\n\u001B[0;32m   1126\u001B[0m         \u001B[1;32mfor\u001B[0m \u001B[0ma\u001B[0m \u001B[1;32min\u001B[0m \u001B[0mto_attach\u001B[0m\u001B[1;33m:\u001B[0m\u001B[1;33m\u001B[0m\u001B[1;33m\u001B[0m\u001B[0m\n\u001B[1;32m-> 1127\u001B[1;33m             \u001B[0ma\u001B[0m\u001B[1;33m.\u001B[0m\u001B[0m_attach_document\u001B[0m\u001B[1;33m(\u001B[0m\u001B[0mself\u001B[0m\u001B[1;33m)\u001B[0m\u001B[1;33m\u001B[0m\u001B[1;33m\u001B[0m\u001B[0m\n\u001B[0m\u001B[0;32m   1128\u001B[0m         \u001B[0mself\u001B[0m\u001B[1;33m.\u001B[0m\u001B[0m_all_models\u001B[0m \u001B[1;33m=\u001B[0m \u001B[0mrecomputed\u001B[0m\u001B[1;33m\u001B[0m\u001B[1;33m\u001B[0m\u001B[0m\n\u001B[0;32m   1129\u001B[0m         \u001B[0mself\u001B[0m\u001B[1;33m.\u001B[0m\u001B[0m_all_models_by_name\u001B[0m \u001B[1;33m=\u001B[0m \u001B[0mrecomputed_by_name\u001B[0m\u001B[1;33m\u001B[0m\u001B[1;33m\u001B[0m\u001B[0m\n",
      "\u001B[1;32m~\\anaconda3\\lib\\site-packages\\bokeh\\model.py\u001B[0m in \u001B[0;36m_attach_document\u001B[1;34m(self, doc)\u001B[0m\n\u001B[0;32m    690\u001B[0m         '''\n\u001B[0;32m    691\u001B[0m         \u001B[1;32mif\u001B[0m \u001B[0mself\u001B[0m\u001B[1;33m.\u001B[0m\u001B[0m_document\u001B[0m \u001B[1;32mis\u001B[0m \u001B[1;32mnot\u001B[0m \u001B[1;32mNone\u001B[0m \u001B[1;32mand\u001B[0m \u001B[0mself\u001B[0m\u001B[1;33m.\u001B[0m\u001B[0m_document\u001B[0m \u001B[1;32mis\u001B[0m \u001B[1;32mnot\u001B[0m \u001B[0mdoc\u001B[0m\u001B[1;33m:\u001B[0m\u001B[1;33m\u001B[0m\u001B[1;33m\u001B[0m\u001B[0m\n\u001B[1;32m--> 692\u001B[1;33m             \u001B[1;32mraise\u001B[0m \u001B[0mRuntimeError\u001B[0m\u001B[1;33m(\u001B[0m\u001B[1;34m\"Models must be owned by only a single document, %r is already in a doc\"\u001B[0m \u001B[1;33m%\u001B[0m \u001B[1;33m(\u001B[0m\u001B[0mself\u001B[0m\u001B[1;33m)\u001B[0m\u001B[1;33m)\u001B[0m\u001B[1;33m\u001B[0m\u001B[1;33m\u001B[0m\u001B[0m\n\u001B[0m\u001B[0;32m    693\u001B[0m         \u001B[0mdoc\u001B[0m\u001B[1;33m.\u001B[0m\u001B[0mtheme\u001B[0m\u001B[1;33m.\u001B[0m\u001B[0mapply_to_model\u001B[0m\u001B[1;33m(\u001B[0m\u001B[0mself\u001B[0m\u001B[1;33m)\u001B[0m\u001B[1;33m\u001B[0m\u001B[1;33m\u001B[0m\u001B[0m\n\u001B[0;32m    694\u001B[0m         \u001B[0mself\u001B[0m\u001B[1;33m.\u001B[0m\u001B[0m_document\u001B[0m \u001B[1;33m=\u001B[0m \u001B[0mdoc\u001B[0m\u001B[1;33m\u001B[0m\u001B[1;33m\u001B[0m\u001B[0m\n",
      "\u001B[1;31mRuntimeError\u001B[0m: Models must be owned by only a single document, DataRange1d(id='4226', ...) is already in a doc"
     ]
    }
   ],
   "source": [
    "# (0.2 Points) Create a ColumnDataSource with the data from fetch_data()                        (please keep this line)\n",
    "# You can use any columns you want as the initial values\n",
    "# TODO Here comes your code\n",
    "source = ColumnDataSource(fetch_data(\"body_wt\",\"brain_wt\"))\n",
    "#source = ColumnDataSource(data_1)\n",
    "\n",
    "# (0.2 Points) Create a figure with log axes, set initial axis labels correctly based            (please keep this line)\n",
    "# on the previous step\n",
    "p=figure(y_axis_type=\"log\", x_axis_type=\"log\", title='DVA: Mammal data sleeping inspector')\n",
    "p.yaxis.axis_label = \"brain_wt\"\n",
    "p.xaxis.axis_label = \"body_wt\"\n",
    "p.sizing_mode = \"stretch_both\"\n",
    "p.xgrid.grid_line_color = None\n",
    "\n",
    "# (0.1 Points) add tooltips with the species names, x and y coordinates                          (please keep this line)\n",
    "# TODO Here comes your code\n",
    "plot = p.add_tools(HoverTool(\n",
    "    tooltips=[(\"Species\",\"@species\"),\n",
    "        (\"x\", \"$x\"),\n",
    "        (\"y\", \"$y\"),\n",
    "        ]))\n",
    "# (0.1 Points) Create a circle glyph and bind it to the ColumnDataSource created previously      (please keep this line)\n",
    "# TODO Here comes your code\n",
    "p.circle(x = 'xs', y='ys', color={'species': 'color'}, source = source,line_color=\"#3288bd\", fill_color=\"white\", line_width=3)\n",
    "#show(p)\n",
    "\n",
    "#select = Select(title=\"Selection of variables\", value ='', options=['data_01','data_02', 'data'])\n",
    "\n",
    "select_xaxis = Select(title=\"X-axis variables\", options=['body_wt', 'predation'], value='')\n",
    "select_yaxis = Select(title=\"Y-axis variables\", options=['brain_wt','dreaming'], value='')\n",
    "\n",
    "def callback(attr, old, new):\n",
    "    \"\"\"\n",
    "    This function is called whenever the current value of the select_xaxis or select_yaxis changes.\n",
    "\n",
    "    Here, we have to\n",
    "    - (0.1 Points) update the ColumnDataSource.data with a new dictionary returned from fetch_data\n",
    "    - (0.1 Points) update the axis labels according to the new columns selected.\n",
    "\n",
    "    Tipp:   Bokeh callbacks typically have this attr, old, new signature, however, in this case you can ignore\n",
    "            them and fetch the current value of the two Select menus directly by accessing doing <your_select>.value\n",
    "\n",
    "    \"\"\"\n",
    "    # TODO Here comes your code\n",
    "    if select_yaxis.value == 'predation':\n",
    "        new_data = fetch_data('predation','dreaming')\n",
    "        p.xaxis.axis_label = \"predation\"\n",
    "        p.yaxis.axis_label = 'dreaming'\n",
    "    # Else, update 'y' to new\n",
    "    elif select_yaxis.value == 'dreaming':\n",
    "        new_data = fetch_data('predation','exposure')\n",
    "        p.yaxis.axis_label = 'dreaming'\n",
    "        p.xaxis.axis_label = \"predation\"\n",
    "\n",
    "    source.data = ColumnDataSource(new_data)\n",
    "\n",
    "# (0.3) Implement two Select Widgets and connect them to the callbacks                          (please keep this line)\n",
    "#       Remove \"species\" from the list\n",
    "# Tipp: If you are unsure on how to do this, have a look at the Callbacks Section and the Select Widget here:\n",
    "# https://docs.bokeh.org/en/latest/docs/user_guide/interaction/widgets.html\n",
    "\n",
    "# TODO Here comes your code\n",
    "select_yaxis.on_change('value',callback)\n",
    "select_yaxis.on_change('value',callback)\n",
    "# (0.1 Point) Add everything to the layout                                                      (please keep this line)\n",
    "lt = layout([select_xaxis,select_yaxis], p)\n",
    "    # ...\n",
    "show(lt)\n",
    "#curdoc().clear()\n",
    "curdoc().add_root(lt)\n",
    "curdoc().title = 'dva_ex1'\n"
   ],
   "metadata": {
    "collapsed": false,
    "pycharm": {
     "name": "#%%\n"
    }
   }
  }
 ],
 "metadata": {
  "kernelspec": {
   "display_name": "Python 3",
   "language": "python",
   "name": "python3"
  },
  "language_info": {
   "codemirror_mode": {
    "name": "ipython",
    "version": 2
   },
   "file_extension": ".py",
   "mimetype": "text/x-python",
   "name": "python",
   "nbconvert_exporter": "python",
   "pygments_lexer": "ipython2",
   "version": "2.7.6"
  }
 },
 "nbformat": 4,
 "nbformat_minor": 0
}